{
 "metadata": {
  "language_info": {
   "codemirror_mode": {
    "name": "ipython",
    "version": 3
   },
   "file_extension": ".py",
   "mimetype": "text/x-python",
   "name": "python",
   "nbconvert_exporter": "python",
   "pygments_lexer": "ipython3",
   "version": "3.9.5-final"
  },
  "orig_nbformat": 2,
  "kernelspec": {
   "name": "python39564bit16b8ef4f61db41e5a25072bf0c095f24",
   "display_name": "Python 3.9.5 64-bit"
  }
 },
 "nbformat": 4,
 "nbformat_minor": 2,
 "cells": [
  {
   "cell_type": "markdown",
   "metadata": {},
   "source": [
    "# PROBLEM 1. INITIAL SPREAD (late 2019)\n",
    "\n",
    "Somewhere in [October--December 2019](https://www.who.int/bangladesh/emergencies/coronavirus-disease-(covid-19)-update), one virion (\"viral package\") evaded the\n",
    "immune system of a human host, proliferated, and was transmitted to another\n",
    "human host; now, we all know this virus as COVID-19.  In this problem, you'll\n",
    "model the initial spread of the virus, characterized by a few key parameters."
   ]
  },
  {
   "cell_type": "markdown",
   "metadata": {},
   "source": [
    "## Part 1. Exponential growth, base 2\n",
    "\n",
    "Let's model the initial spread of the virus as follows:\n",
    "\n",
    "- Day 0: Only the first human host is infected.\n",
    "- Day 1: The first person has transmitted the virus to two other people.\n",
    "- Day 2: Each of these two new infections transmitted the virus to two\n",
    "  others, making four new infections.\n",
    "    - For simplicity (only in Questions 1 and 2), we stipulate that only the\n",
    "      newly-infected people of the previous day are contageous the next day\n",
    "      (i.e., the only infected person on day 1 is not still contageous on day 3,\n",
    "      so there are only four new infections instead of six).  In Question 3, we\n",
    "      will adapt this assumption to make the model more accurate.\n",
    "- Day 3: Each of these four new infections transmitted the virus to two\n",
    "  others, making eight new infections.\n",
    "- ...\n",
    "\n",
    "From this trend, it can be seen that viral transmission can be modeled as being\n",
    "approximately exponential.\n",
    "\n",
    "For a given number of days, `n`, after the first case (i.e., on \"day 1\", `n=1`),\n",
    "compute how many new infections there were.  Fill out the method\n",
    "`new_cases(n)`, below:"
   ]
  },
  {
   "cell_type": "code",
   "execution_count": null,
   "metadata": {},
   "outputs": [],
   "source": [
    "def new_cases(n):\n",
    "    '''\n",
    "    Return the number of new cases, `n` days after the first case.\n",
    "    '''\n",
    "    # YOUR CODE HERE\n",
    "    pass\n",
    "\n",
    "\n",
    "###\n",
    "# TESTING\n",
    "from helpers.testing import *\n",
    "p_1_inputs = [1, 2, 3, 28, 41]\n",
    "p_1_outputs = [2, 4, 8, 268435456, 2199023255552]\n",
    "test_function(new_cases, p_1_inputs, p_1_outputs, 'new_cases(n)')"
   ]
  },
  {
   "cell_type": "markdown",
   "metadata": {},
   "source": [
    "## Part 2. Exponential growth, base `r`\n",
    "\n",
    "Suppose now that we follow the same model as in Question 1, but where now each\n",
    "infected person (from the previous day) infects an additional `r` new people.\n",
    "Intuitively, this `r` describes the effective rate at which the virus reproduces\n",
    "and spreads, and that's why this value is called the virus's \"reproduction\n",
    "number\" (written `R`, `Re`, and `R_0`).\n",
    "\n",
    "Predict the number of new cases on day `n` for a given balue of `r`:"
   ]
  },
  {
   "cell_type": "code",
   "execution_count": null,
   "metadata": {},
   "outputs": [],
   "source": [
    "def new_cases(n, r):\n",
    "    '''\n",
    "    Return the number of new cases, `n` days after the first case, for a given,\n",
    "    fixed reproduction number, `r`.\n",
    "    '''\n",
    "    # YOUR CODE HERE\n",
    "    pass\n",
    "\n",
    "\n",
    "###\n",
    "# TESTING\n",
    "from helpers.testing import *\n",
    "p_2_inputs = [(1, 2), (2, 2), (3, 2), (41, 2), (1, 3), (2, 3), (3, 3), (28, 3)]\n",
    "p_2_outputs = [2, 4, 8, 2199023255552, 3, 9, 27, 22876792454961]\n",
    "test_function(new_cases, p_2_inputs, p_2_outputs, 'new_cases(n, r)', should_unpack_input=True)"
   ]
  },
  {
   "cell_type": "markdown",
   "metadata": {},
   "source": [
    "## Part 3. Exponential growth with limited contageousness\n",
    "\n",
    "Recall that we've assumed that only the people who were infected the previous day will transmit the virus the following day.  This assumption, it turns out, is not accurate: on average, people with COVID-19 are contageous for the first ten days after infection.  (Really, people are contageous for [ten days after symptom onset](https://www.cdc.gov/coronavirus/2019-ncov/if-you-are-sick/end-home-isolation.html), but we'll assume that people show symptoms immediately after infection.)  We'll call these ten days the \"contageousness duration\" (n.b. that is isn't a real term, but it's descriptive enough), and define the value of `h` to correspond to this duration (`h = 10` in the example here, but we allow that it can take on other values.)\n",
    "\n",
    "This means that, for `r = 2` and `h = 10`, cases grow as follows:\n",
    "\n",
    "- Day 0: Only the first human host is infected.\n",
    "- Day 1: The first human host has transmitted the virus to two new people (so there are **three contageous people** in total).\n",
    "- Day 2: Each of the three contageous people transmits to two other people, making six new cases** (so there are **nine contageous people** in total).\n",
    "- Day 3: Each of the nine contageous people transmits to two other people, making 18 new cases (**After day 3, how many people are contageous in total?**)\n",
    "- ...\n",
    "- Day 9: Each of 6.561 contageous people transmits to two other people, making 13.122 new cases (so there are **19.683 contageous people** in total).\n",
    "- Day 10: Each of 19.683 contageous people transmits to two other people, making 39.366 new cases.  However, **after Day 10, the first human host is no longer contageous**, so there are now **59.048 (= 19.683 + 39.366 - 1) contageous people** in total.\n",
    "- Day 11: Each of 59.048 contageous people transmits to two other people, making 118.096 new cases.  After Day 11, the two new infections on Day 1 are no longer contageous, so there are now **177.142 (= 59.048 + 118.096 - 2) contageous people** in total.\n",
    "- ...\n",
    "\n",
    "Implement `contageous_cases(n, r, h)` below to model the total number of contageous cases `n` days after the first case, for a given reproduction number, `r`, and contageousness duration, `h`.\n",
    "\n",
    "Implement `new_cases(n, r, h)` using your definition of `contageous_cases(n, r, h)` (and vice-versa, if you wish)."
   ]
  },
  {
   "cell_type": "code",
   "execution_count": null,
   "metadata": {},
   "outputs": [],
   "source": [
    "def contageous_cases(n, r, h):\n",
    "    '''\n",
    "    Return the number of contageous cases, `n` days after the first case, for\n",
    "    a given reproduction number, `r`, and contageousness duration, `h`.\n",
    "\n",
    "    Constraints: h is an integer; h > 1\n",
    "    '''\n",
    "    # YOUR CODE HERE\n",
    "    pass\n",
    "\n",
    "\n",
    "def new_cases(n, r, h):\n",
    "    '''\n",
    "    Return the number of new cases, `n` days after the first case, for a given\n",
    "    reproduction number, `r`, and contageousness duration, `h`.\n",
    "\n",
    "    Constraints: h is an integer; h > 1\n",
    "    '''\n",
    "    # YOUR CODE HERE\n",
    "    pass\n",
    "\n",
    "\n",
    "###\n",
    "# TESTING\n",
    "from helpers.testing import *\n",
    "p_3a_inputs = [\n",
    "    (2, 2, 10), (3, 2, 10), (10, 2, 10), (12, 2, 10), (40, 2, 10), (50, 2, 10),\n",
    "    (2, 3, 10), (3, 3, 10), (10, 3, 10), (12, 3, 10), (40, 3, 10), (50, 3, 10),\n",
    "    (2, 4,  4), (3, 4,  4), (10, 4,  4), (12, 4,  4), (40, 4,  4), (50, 4,  4)]\n",
    "p_3a_outputs = [\n",
    "    9, 27, 59048, 531420, 12153342086209690992, 717561669536121333955968,\n",
    "    16, 64, 1048575, 16777176, 1208898726093273813811200, 1267613123835866916197873295360,\n",
    "    25, 125, 9675056, 241254400, 8669215789878538620314320896, 83577348412336276351459604903755776]\n",
    "test_function(contageous_cases, p_3a_inputs, p_3a_outputs, 'contageous_cases(n, r, h)', should_unpack_input=True)\n",
    "\n",
    "p_3b_inputs = [\n",
    "    (2, 2, 10), (3, 2, 10), (10, 2, 10), (12, 2, 10), (40, 2, 10), (50, 2, 10),\n",
    "    (2, 3, 10), (3, 3, 10), (10, 3, 10), (12, 3, 10), (40, 3, 10), (50, 3, 10),\n",
    "    (2, 4,  4), (3, 4,  4), (10, 4,  4), (12, 4,  4), (40, 4,  4), (50, 4,  4)]\n",
    "p_3b_outputs = [\n",
    "    6, 18, 39366, 354284, 8102319543464537808, 478379847903776532329184,\n",
    "    12, 48, 786432, 12582891, 906674693078869969453056, 950710522882919996300882061312,\n",
    "    20, 100, 7750016, 193252160, 6944307237869705242828865536, 66948014626577488880891917108248576]\n",
    "test_function(new_cases, p_3b_inputs, p_3b_outputs, 'new_cases(n, r, h)', should_unpack_input=True)"
   ]
  },
  {
   "cell_type": "markdown",
   "metadata": {},
   "source": [
    "Plot the growth of cases over time, for `r = 2` and `h = 10`.\n",
    "\n",
    "Refer to the 'matplotlib' portion of the HELPFUL PACKAGES section of this morning's workshop for help with plotting."
   ]
  },
  {
   "cell_type": "code",
   "execution_count": null,
   "metadata": {},
   "outputs": [],
   "source": [
    "\n",
    "# YOUR CODE HERE\n"
   ]
  },
  {
   "cell_type": "markdown",
   "metadata": {},
   "source": [
    "Change the parameters (`r` and `h`) and plot case growth in this new case.  Do you notice anything interesting, for certain values of `r` and `h`? "
   ]
  },
  {
   "cell_type": "code",
   "execution_count": null,
   "metadata": {},
   "outputs": [],
   "source": [
    "\n",
    "# YOUR CODE HERE\n"
   ]
  },
  {
   "cell_type": "markdown",
   "metadata": {},
   "source": [
    "## Part 4. Actual growth\n",
    "\n",
    "As it happens, at this point in the pandemic, there's real data on all these\n",
    "numbers.  Early this year, [a paper](https://doi.org/10.1371/journal.pone.0244474) published [estimates](https://github.com/crondonm/TrackingR/blob/main/Estimates-Database/database.csv) for the COVID-19's\n",
    "effective reproduction number (`r`, described in Question 2).  For this\n",
    "question, just plot the estimates of `r` in France (data in \"data/reproduction.csv\") over the course of the pandemic.  Call me\n",
    "over and describe what you see!\n",
    "\n",
    "Refer to the HELPFUL PACKAGES section of\n",
    "this morning's workshop for help: the 'I/O' (input/output) portion will help you read the file, and the 'matplotlib' portion will help you with plotting."
   ]
  },
  {
   "cell_type": "code",
   "execution_count": null,
   "metadata": {},
   "outputs": [],
   "source": [
    "\n",
    "# YOUR CODE HERE\n"
   ]
  },
  {
   "cell_type": "markdown",
   "metadata": {},
   "source": [
    "## Part 5. Expand and expound\n",
    "\n",
    "Elaborate on this problem, if you wish.  Here are a couple of ideas:\n",
    "- Consider that the population of the world is only about 7.8 billion, though the model in Part 3 predicts 8,102,319,543,464,537,808 (8.1 quintillion) new cases after 40 days of viral circulation...  Adjust the model to include a population cap.  At what point is everyone infected, etc.\n",
    "- Compute cases (as in Part 3) using the time-variable estimates for `r` from Part 4."
   ]
  },
  {
   "cell_type": "code",
   "execution_count": null,
   "metadata": {},
   "outputs": [],
   "source": [
    "\n",
    "# YOUR CODE HERE\n"
   ]
  }
 ]
}