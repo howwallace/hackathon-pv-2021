{
 "metadata": {
  "language_info": {
   "codemirror_mode": {
    "name": "ipython",
    "version": 3
   },
   "file_extension": ".py",
   "mimetype": "text/x-python",
   "name": "python",
   "nbconvert_exporter": "python",
   "pygments_lexer": "ipython3",
   "version": "3.9.5-final"
  },
  "orig_nbformat": 2,
  "kernelspec": {
   "name": "python39564bit16b8ef4f61db41e5a25072bf0c095f24",
   "display_name": "Python 3.9.5 64-bit"
  }
 },
 "nbformat": 4,
 "nbformat_minor": 2,
 "cells": [
  {
   "cell_type": "markdown",
   "metadata": {},
   "source": [
    "# PROBLEM 4. VIRAL GENOME (July 2020)\n",
    "\n",
    "A key to the development of effective vaccines against COVID-19 has been the sequencing and annotation of the virus's genome.  This problem is about genome sequencing and annotation.\n",
    "\n",
    "Central Dogma of biology: \"DNA -> RNA -> proteins\""
   ]
  },
  {
   "cell_type": "markdown",
   "metadata": {},
   "source": [
    "## Part 1. Data pre-processing \\[like DNA -> RNA] (10 points)\n",
    "\n",
    "First, take a look at the sequence data for the (original) COVID-19 genome at [PubMed](https://www.ncbi.nlm.nih.gov/nuccore/NC_045512).  Wow, that's a lot of information!  Scroll but scroll to the bottom and find \"ORIGIN\".  The many, many lines of letters that follow are a sequence of the virus's RNA--its \"source code,\" so to say.  (Well, really this sequenced genome is published as if COVID were made of DNA... notice the \"t\"s (thymine) instead of \"u\"s (uracil).  We'll get to this in a bit.)\n",
    "\n",
    "If you look in the \"data\" directory, you'll see a file called \"covid.txt\".  That text file is just a copy of the sequencing data under \"ORIGIN.\"  We can read it using the bit of code below:"
   ]
  },
  {
   "cell_type": "code",
   "execution_count": null,
   "metadata": {
    "tags": []
   },
   "outputs": [],
   "source": [
    "def read_file(file_name):\n",
    "    lines = open(file_name, 'r', encoding='utf-8').readlines()\n",
    "    return ''.join([line.strip() for line in lines[1:]])\n",
    "\n",
    "genome = read_file('data/covid.txt')"
   ]
  },
  {
   "cell_type": "markdown",
   "metadata": {},
   "source": [
    "See what happens when you print out the string `genome`:"
   ]
  },
  {
   "cell_type": "code",
   "execution_count": null,
   "metadata": {},
   "outputs": [],
   "source": [
    "\n",
    "# YOUR CODE HERE\n"
   ]
  },
  {
   "cell_type": "markdown",
   "metadata": {},
   "source": [
    "Woah, it's too big for the console, right?  That's a lot of nucleotides!  Well, sure, 30,000 characters (in the context of a genome, we'd say \"30 kilobases\" and write \"30 kb\") is a lot to print to the console.  But actually the genome is relatively small when you compare it to other viral genomes, which range from [2 kb--2500 kb long](https://www.sciencedirect.com/science/article/pii/B9780123944474100616).  This speaks to the variety and resourcefulness of viral transmission strategies--viruses don't necessarily need highly complex genomes to be extremely effective at reproducing.  If you're interested, you can read more about the (original) COVID-19 genome [in this New York Times article](https://www.nytimes.com/interactive/2020/04/03/science/coronavirus-genome-bad-news-wrapped-in-protein.html).\n",
    "\n",
    "Ok, back to the problem--instead of printing the whole string, just print the first 100 or so nucleotides:"
   ]
  },
  {
   "cell_type": "code",
   "execution_count": null,
   "metadata": {},
   "outputs": [],
   "source": [
    "# YOUR CODE HERE"
   ]
  },
  {
   "cell_type": "markdown",
   "metadata": {},
   "source": [
    "Here you can see that the genome is made up of \"C\"s, \"G\"s, \"A\"s, and \"T\"s.  If you're familiar with cell biology, you might recognize these letters as the names of the four different **deoxyribonucleotides** (i.e., the four different building blocks [\"bases\"] of DNA): cytosine, guanine, adenosyne, and thymine.\n",
    "\n",
    "Great--but COVID-19 is an RNA virus (i.e., not a DNA virus).  RNA is made of **ribonucleotides** (like deoxyribonucleotides, but with an alcohol group on 2nd carbon of the sugar): cytosine (\"c\"), guanine (\"g\"), adenosyne (\"a\"), and **uracil** (\"u\" replaces \"T\").  As you can see, an RNA sequence can be distinguished from a DNA sequence by whether there are uracils or thymines; but notice also that (sometimes) RNA is written in lowercase and DNA in uppercase letters to further emphasize which kind of genetic material we're talking about.\n",
    "\n",
    "So, to begin with, we need to replace all the \"T\"s in the genome we've loaded with \"u\"s.  Do this below:"
   ]
  },
  {
   "cell_type": "code",
   "execution_count": null,
   "metadata": {},
   "outputs": [],
   "source": [
    "\n",
    "# YOUR CODE HERE\n"
   ]
  },
  {
   "cell_type": "markdown",
   "metadata": {},
   "source": [
    "Next, in order to apply the case convention (RNA in lowercase), make the genome string all lowercase:"
   ]
  },
  {
   "cell_type": "code",
   "execution_count": null,
   "metadata": {
    "tags": []
   },
   "outputs": [],
   "source": [
    "\n",
    "# YOUR CODE HERE\n"
   ]
  },
  {
   "cell_type": "markdown",
   "metadata": {},
   "source": [
    "Excellent!  Now we have a string that represents the (RNA) genome of COVID-19."
   ]
  },
  {
   "cell_type": "markdown",
   "metadata": {},
   "source": [
    "## Part 2. Translation \\[RNA -> proteins]\n",
    "\n",
    "Once COVID-19 enters a human host, its genome is **translated** by the host's genetic machinery into proteins.  Some of these proteins help the virus reproduce directly, others slow the host cell's translation of its own proteins to help the virus defend itself, and others (capsid proteins) function as packaging for the viral particles in order to protect them on their journey to infect new host cells.\n",
    "\n",
    "Peptides (single-subunit proteins) are chains of **amino acids**, and they're coded for directly by the RNA sequence.  Different three-base sequences of RNA (called \"codons\") correspond to different amino acids, as defined by the translation key below:"
   ]
  },
  {
   "cell_type": "code",
   "execution_count": null,
   "metadata": {},
   "outputs": [],
   "source": [
    "# RUN THIS CHUNK\n",
    "\n",
    "translation_key = {\n",
    "    'aug':'START',\n",
    "    \n",
    "    # aliphatic\n",
    "    'gca':'A', 'gcc':'A', 'gcg':'A', 'gcu':'A',                         # Alanine\n",
    "    'gga':'G', 'ggc':'G', 'ggg':'G', 'ggu':'G',                         # Glycine\n",
    "    'aua':'I', 'auc':'I', 'auu':'I',                                    # Isoleucine\n",
    "    'cua':'L', 'cuc':'L', 'cug':'L', 'cuu':'L', 'uua':'L', 'uug':'L',   # Leucine\n",
    "    'cca':'P', 'ccc':'P', 'ccg':'P', 'ccu':'P',                         # Proline\n",
    "    'gua':'V', 'guc':'V', 'gug':'V', 'guu':'V',                         # Valine\n",
    "    \n",
    "    # aromatic\n",
    "    'uuc':'F', 'uuu':'F',                                               # Phenylalanine\n",
    "    'ugg':'W',                                                          # Tryptophan\n",
    "    'uac':'Y', 'uau':'Y',                                               # Tyrosine\n",
    "\n",
    "    # acidic\n",
    "    'gac':'D', 'gau':'D',                                               # Aspartic Acid\n",
    "    'gaa':'E', 'gag':'E',                                               # Glutamic Acid\n",
    "    \n",
    "    # basic\n",
    "    'aga':'R', 'agg':'R', 'cga':'R', 'cgc':'R', 'cgg':'R', 'cgu':'R',   # Arginine\n",
    "    'cac':'H', 'cau':'H',                                               # Histidine\n",
    "    'aaa':'K', 'aag':'K',                                               # Lysine\n",
    "\n",
    "    # hydroxylic\n",
    "    'agc':'S', 'agu':'S', 'uca':'S', 'ucc':'S', 'ucg':'S', 'ucu':'S',   # Serine\n",
    "    'aca':'T', 'acc':'T', 'acg':'T', 'acu':'T',                         # Threonine\n",
    "    \n",
    "    # sulfer-containing\n",
    "    'ugc':'C', 'ugu':'C',                                               # Cysteine\n",
    "    'aug':'M',                                                          # Methionine\n",
    "\n",
    "    # amidic\n",
    "    'aac':'N', 'aau':'N',                                               # Asparagine\n",
    "    'caa':'Q', 'cag':'Q',                                               # Glutamine\n",
    "\n",
    "    'uaa':'STOP', 'uag':'STOP', 'uga':'STOP',\n",
    "}"
   ]
  },
  {
   "cell_type": "markdown",
   "metadata": {},
   "source": [
    "Notice the \"START\" codon \"aug\".  At these sites in the RNA sequence, translation can begin.\n",
    "\n",
    "Below, look for ALL the START codons in the first 500 nucleotides:"
   ]
  },
  {
   "cell_type": "code",
   "execution_count": null,
   "metadata": {},
   "outputs": [],
   "source": [
    "\n",
    "# YOUR CODE HERE\n"
   ]
  },
  {
   "cell_type": "markdown",
   "metadata": {},
   "source": [
    "You should find five--around 106, 265, 407, 467, and 488 b.  Now look for all the START codons in the entire genome:"
   ]
  },
  {
   "cell_type": "code",
   "execution_count": null,
   "metadata": {},
   "outputs": [],
   "source": [
    "\n",
    "# YOUR CODE HERE\n"
   ]
  },
  {
   "cell_type": "markdown",
   "metadata": {},
   "source": [
    "Wow, there are a lot!  725 by my count (see if you agree).  But not nearly this many peptides actually get translated (appreciably) in hosts.  In fact, though in theory translation can start at any of these START codons, in practice not all these codons actually code for START.\n",
    "\n",
    "This is a specific peptide must be translated in a specific \"frame\" (n.b. that it's not the case that all peptides have to be translated in the same frame).  To illustrate this point, print out the first 100 nucleotides again:"
   ]
  },
  {
   "cell_type": "code",
   "execution_count": null,
   "metadata": {},
   "outputs": [],
   "source": [
    "\n",
    "# YOUR CODE HERE\n"
   ]
  },
  {
   "cell_type": "markdown",
   "metadata": {},
   "source": [
    "You may notice that the very first (possible) codon in the sequence is \"auu\".  The next codon would be \"aaa\", then \"ggu\", etc.\n",
    "\n",
    "But imagine that the first \"a\" is just there to stabilize the molecule (or something else), and the important information encoded in the RNA starts with the codon, \"uua\", then \"aag\", then \"guu\".  You see that there are multiple (3, in fact) possible \"frames\" (alignments) in which to read out codons.  This different frames are defined by different \"frameshifts\" (0, +1 \\[same as -2], and +2 \\[same as -1], for a given RNA sequence).\n",
    "\n",
    "Given these three possible alignments, it's possible that the \"aug\" that we read as a START could actually be an \"aau\" (Asparagine) followed by a \"gga\" (Glycine), or a \"uca\" (Serine) followed by a \"ugc\" (Cysteine), or something else still."
   ]
  },
  {
   "cell_type": "markdown",
   "metadata": {},
   "source": [
    "Suppose that we assume that all these START codons really do code for START (like the machinery in a cell might suppose).  If we want to figure out the peptide sequences of the different COVID proteins (in the appropriate frames), then we can start with each START codon we found before, and then follow the RNA sequence in that frame (i.e., 3 b at a time) until we hit a STOP codon (again, like cell machinery would try to do).\n",
    "\n",
    "Implement a piece of code below to find all the peptides coded for in the genome, according to this rule:"
   ]
  },
  {
   "cell_type": "code",
   "execution_count": null,
   "metadata": {
    "tags": []
   },
   "outputs": [],
   "source": [
    "\n",
    "# YOUR CODE HERE\n"
   ]
  },
  {
   "cell_type": "markdown",
   "metadata": {},
   "source": [
    "How many peptides did you find?  Does it match the number of START codons (or STOP codons, for that matter)?  Why or why not?  Come find my and tell me what you think!"
   ]
  },
  {
   "cell_type": "markdown",
   "metadata": {},
   "source": [
    "## Part 3. Proteins that actually get translated\n",
    "\n",
    "One protein of particular note (the one makes the viral capsid look spiky, like a crown \\[\"corona\"]) is the spike protein.  These spike proteins are present on the surface of the capsid and trick host cells to let the virus in.\n",
    "\n",
    "The spike proten, like the viral genome, has been sequenced, and that sequence data is also available on [PubMed](https://www.ncbi.nlm.nih.gov/protein/YP_009724390.1?report=fasta).  If you look in the \"data\" directory, you'll see a file called \"spike.txt\".  That text file is just a copy of the sequencing data from PubMed.  We can read it using the bit of code below:"
   ]
  },
  {
   "cell_type": "code",
   "execution_count": null,
   "metadata": {},
   "outputs": [],
   "source": [
    "# RUN THIS CHUNK\n",
    "\n",
    "spike = read_file('data/spike.txt')"
   ]
  },
  {
   "cell_type": "markdown",
   "metadata": {},
   "source": [
    "First, see if the spike protein is one of the peptides we found above:"
   ]
  },
  {
   "cell_type": "code",
   "execution_count": null,
   "metadata": {},
   "outputs": [],
   "source": [
    "\n",
    "# YOUR CODE HERE\n"
   ]
  },
  {
   "cell_type": "markdown",
   "metadata": {},
   "source": [
    "Hmm...  Well are any of our peptides similar to the spike protein?"
   ]
  },
  {
   "cell_type": "code",
   "execution_count": null,
   "metadata": {
    "tags": []
   },
   "outputs": [],
   "source": [
    "\n",
    "# YOUR CODE HERE\n"
   ]
  },
  {
   "cell_type": "markdown",
   "metadata": {},
   "source": [
    "Find me and tell me about what you've found!"
   ]
  },
  {
   "cell_type": "markdown",
   "metadata": {},
   "source": [
    "## Expand and expound\n",
    "\n",
    "Elaborate on this problem, if you wish.  Here are a couple of ideas:\n",
    "- Predict hairpins (reverse-complementary RNA sequences, separated by a few nucleotides) in the viral genome.\n",
    "- There are plenty of other COVID proteins that have been sequenced, besides the spike protein.  Check them out on [PubMed](https://www.ncbi.nlm.nih.gov/nuccore/NC_045512) and see if your predictions agree!\n",
    "- The sequence of the Pfizer/BioNTech mRNA vaccine (based on the mRNA sequence of the spike protein) is available [here](https://web.archive.org/web/20210105162941/https://mednet-communities.net/inn/db/media/docs/11889.doc).  Compare it to the spike protein-coding mRNA in COVID."
   ]
  },
  {
   "cell_type": "code",
   "execution_count": null,
   "metadata": {},
   "outputs": [],
   "source": [
    "\n",
    "# YOUR CODE HERE\n"
   ]
  }
 ]
}