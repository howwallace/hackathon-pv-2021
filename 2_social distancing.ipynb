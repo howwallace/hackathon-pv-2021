{
 "metadata": {
  "language_info": {
   "codemirror_mode": {
    "name": "ipython",
    "version": 3
   },
   "file_extension": ".py",
   "mimetype": "text/x-python",
   "name": "python",
   "nbconvert_exporter": "python",
   "pygments_lexer": "ipython3",
   "version": "3.8.5-final"
  },
  "orig_nbformat": 2,
  "kernelspec": {
   "name": "python38564bit5d38f0c89fcd492aaac447765c0ff423",
   "display_name": "Python 3.8.5 64-bit"
  }
 },
 "nbformat": 4,
 "nbformat_minor": 2,
 "cells": [
  {
   "cell_type": "markdown",
   "metadata": {},
   "source": [
    "# PROBLEM 2. SOCIAL DISTANCING (April 2020)\n",
    "\n",
    "In April 2020, the Centers for Disease Control and Prevention announced health\n",
    "guidelines in response to the rising COVID-19 pandemic; among these guidelines\n",
    "were rules about social distancing.  In particular, it was recommended that\n",
    "individuals stay at least [two meters apart](https://www.cdc.gov/coronavirus/2019-ncov/prevent-getting-sick/social-distancing.html)."
   ]
  },
  {
   "cell_type": "markdown",
   "metadata": {},
   "source": [
    "## Part 1. 1-D distancing\n",
    "\n",
    "First, I want to know whether two people are at the appropriate distance.  Let's imagine first that people exist in just a single spatial dimension, so their position can be defined by a single coordinate, `x`.\n",
    "\n",
    "Complete the following class definition to store the passed position, `x`, in an instance variable:"
   ]
  },
  {
   "cell_type": "code",
   "execution_count": null,
   "metadata": {},
   "outputs": [],
   "source": [
    "class Person:\n",
    "    def __init__(self, x):\n",
    "        '''\n",
    "        `x` is position in 1 dimension (meters)\n",
    "        '''\n",
    "        # YOUR CODE HERE\n",
    "        pass\n"
   ]
  },
  {
   "cell_type": "markdown",
   "metadata": {},
   "source": [
    "We'll define two example instances of this class (i.e., two \"Person\"s), Myriam and Edgar, at specific positions:"
   ]
  },
  {
   "cell_type": "code",
   "execution_count": null,
   "metadata": {},
   "outputs": [],
   "source": [
    "myriam =  Person(3820)\n",
    "lydia =   Person(3819.2)\n",
    "edgar =   Person(3817.3)\n",
    "jeanne =  Person(3916)"
   ]
  },
  {
   "cell_type": "markdown",
   "metadata": {},
   "source": [
    "Implement the function below to return the boolean value (`True` or `False`) that answers the question, \"Are these two people properly socially distanced?\":"
   ]
  },
  {
   "cell_type": "code",
   "execution_count": null,
   "metadata": {},
   "outputs": [],
   "source": [
    "def are_they_properly_distanced(person1, person2, min_distance=2):\n",
    "    '''\n",
    "    return `True` iff person1 and person2 are appropriately distanced\n",
    "    '''\n",
    "    # YOUR CODE HERE\n",
    "    pass\n",
    "\n",
    "\n",
    "# TEST YOUR IMPLEMENTATION HERE"
   ]
  },
  {
   "cell_type": "markdown",
   "metadata": {},
   "source": [
    "Does your function say that Myriam and Edgar are properly distanced?  Looking at their positions yourself, are they properly distanced?"
   ]
  },
  {
   "cell_type": "markdown",
   "metadata": {},
   "source": [
    "Notice the `min_distance=2` in the function header.  This syntax makes `min_distance` an **optional argument**; if it's not specified (i.e., if your call `are_they_properly_distanced(person1, person2)`), it takes on a default value of `2`.  However, after [a study](https://doi.org/10.1093/cid/ciab230) found that a distance of 1 meter was as effective at limiting viral spread (specifically, in primary/secondary schools, given masking, etc.), you might want to use `min_distance=1`.  To do this, you just need to call `are_they_properly_distanced(person1, person2, min_distance=1)`.  Try it below and see how it changes your function's answer for who's properly distanced:"
   ]
  },
  {
   "cell_type": "code",
   "execution_count": null,
   "metadata": {},
   "outputs": [],
   "source": [
    "\n",
    "# YOUR CODE HERE\n"
   ]
  },
  {
   "cell_type": "markdown",
   "metadata": {},
   "source": [
    "## Part 2. 2-D distancing\n",
    "\n",
    "We don't exist in just one spatial dimension, though--we exist in three spatial dimensions!  (Or--I do, at least.)  However, a lot of the circulation that people do in the world can be well characterized in only two dimension, since we don't have much control over our elevation (indeed, reducing dimensionality like this does lose some information--you and your upstairs neighbor may be socially distanced, though you might share the same coordinates in 2D.  But we'll ignore that in this problem.).\n",
    "\n",
    "Suppose we want to extend the functionality you implemented above to be able tell if people are properly distancing at an outdoor concert.  In this case, it is appropriate to model an individual's position by two coordinate points.\n",
    "\n",
    "Complete the following class definition to store the passed position, `(x, y)`, in an/multiple instance variable(s):"
   ]
  },
  {
   "cell_type": "code",
   "execution_count": null,
   "metadata": {},
   "outputs": [],
   "source": [
    "class Person:\n",
    "    def __init__(self, x, y):\n",
    "        '''\n",
    "        (`x`, `y`) defines position in 2 dimensions (meters)\n",
    "        '''\n",
    "        # YOUR CODE HERE\n",
    "        pass\n"
   ]
  },
  {
   "cell_type": "markdown",
   "metadata": {},
   "source": [
    "We'll define the positions of some new people in this 2D space:"
   ]
  },
  {
   "cell_type": "code",
   "execution_count": null,
   "metadata": {},
   "outputs": [],
   "source": [
    "abel =      Person(60,   32)\n",
    "berfin =    Person(59,   30)\n",
    "charlotte = Person(32,   58)\n",
    "denis =     Person(61.5, 32.1)\n",
    "ellen =     Person(33,   58)"
   ]
  },
  {
   "cell_type": "markdown",
   "metadata": {},
   "source": [
    "Implement the function below to answer the question, \"Are these two people properly socially distanced?\" and test your implementation on some pairs of the people defined above.  Do the answers match what you expect?"
   ]
  },
  {
   "cell_type": "code",
   "execution_count": null,
   "metadata": {},
   "outputs": [],
   "source": [
    "def are_they_properly_distanced(person1, person2, min_distance=2):\n",
    "    '''\n",
    "    returns:\n",
    "    `True` iff person1 and person2 are appropriately distanced,\n",
    "    `False` otherwise\n",
    "    '''\n",
    "    # YOUR CODE HERE\n",
    "    pass\n",
    "\n",
    "\n",
    "# TEST YOUR IMPLEMENTATION HERE"
   ]
  },
  {
   "cell_type": "markdown",
   "metadata": {},
   "source": [
    "Rather than manually checking pairs, implement `who_is_not_distanced(people)` below to iterate through pairs of people and print out which pairs are not distanced.  You should print something like \"Denis and Abel aren't distanced!\" for each non-distanced pair.  Feel free to use your definition of `are_they_properly_distanced(person1, person2, min_distance=2)` above in your implementation of `who_is_not_distanced(people, min_distance=2)`.  Test your implementation below."
   ]
  },
  {
   "cell_type": "code",
   "execution_count": null,
   "metadata": {},
   "outputs": [],
   "source": [
    "def who_is_not_distanced(people, min_distance=2):\n",
    "    '''\n",
    "    prints a warning message for each non-distanced pair in `people`\n",
    "    '''\n",
    "    # YOUR CODE HERE\n",
    "    pass\n",
    "\n",
    "\n",
    "# TEST YOUR IMPLEMENTATION HERE"
   ]
  },
  {
   "cell_type": "markdown",
   "metadata": {},
   "source": [
    "## Part 3. Expand and expound\n",
    "\n",
    "Elaborate on this problem, if you wish (though make sure to check out PROBLEM 3 first, since it is already an extension of this problem!)"
   ]
  },
  {
   "cell_type": "code",
   "execution_count": null,
   "metadata": {},
   "outputs": [],
   "source": [
    "\n",
    "# YOUR CODE HERE\n"
   ]
  }
 ]
}