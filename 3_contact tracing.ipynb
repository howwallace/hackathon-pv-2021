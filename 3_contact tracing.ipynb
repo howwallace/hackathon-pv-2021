{
 "metadata": {
  "language_info": {
   "codemirror_mode": {
    "name": "ipython",
    "version": 3
   },
   "file_extension": ".py",
   "mimetype": "text/x-python",
   "name": "python",
   "nbconvert_exporter": "python",
   "pygments_lexer": "ipython3",
   "version": "3.9.5-final"
  },
  "orig_nbformat": 2,
  "kernelspec": {
   "name": "python39564bit16b8ef4f61db41e5a25072bf0c095f24",
   "display_name": "Python 3.9.5 64-bit"
  }
 },
 "nbformat": 4,
 "nbformat_minor": 2,
 "cells": [
  {
   "cell_type": "markdown",
   "metadata": {},
   "source": [
    "# PROBLEM 3. CONTACT-TRACING (June--July 2020)\n",
    "\n",
    "After its months-long lockdown, France began easing restrictions in [June--July 2020](https://en.wikipedia.org/wiki/COVID-19_pandemic_in_France#June%E2%80%93July_2020:_Easing_of_restrictions).  This allowed people to return (to some degree, and for a certain period) to normal life; however, it remained important to limit the spread as much as possible.  Enter contact-tracing, a strategy that made sure that people who had been in contact with recently-diagnosed COVID patients would be alerted so they could self-isolate, before they had symptoms and even if they never had symptoms.\n",
    "\n",
    "Consider a small town of about 30 people.  Each night, one group of them eats dinner together, and all the others stay home.  To begin with, nobody is infected..."
   ]
  },
  {
   "cell_type": "code",
   "execution_count": null,
   "metadata": {},
   "outputs": [],
   "source": [
    "# RUN THIS CHUNK TO DEFINE THE GROUPS IN YOUR COMPUTER'S MEMORY\n",
    "\n",
    "# groups[0] gives the group that has dinner on Monday, ..., groups[6] on Sunday.\n",
    "groups = [\n",
    "    ['Agathe', 'Inès', 'Jules', 'Lucas', 'Léa', 'Raphaël', 'Valentin', 'Zoé'],\n",
    "    ['Clément', 'Louis', 'Louise', 'Michel'],\n",
    "    ['Arthur', 'Camille', 'Gabin', 'Hugo', 'Jules', 'Juliette', 'Louis', 'Mathis', 'Victor'],\n",
    "    ['Camille', 'Maxime'],\n",
    "    ['Camille', 'Emma', 'Léna'],\n",
    "    ['Anna', 'Antoine', 'Arthur', 'Clément', 'Inès', 'Louis', 'Mathis', 'Maxime', 'Samuel', 'Thomas'],\n",
    "    ['Arthur', 'Jeanne', 'Jules', 'Léo', 'Martin', 'Noé']\n",
    "]"
   ]
  },
  {
   "cell_type": "markdown",
   "metadata": {},
   "source": [
    "## Part 1. Tracking infections\n",
    "\n",
    "...but one Monday morning, Jules rides the métro and starts to feel sick within a couple of days.  By the end of the week, who else will be infected?  Assume that infected people are contageous immediately after infection (e.g., Jules is infectious immediately after his métro ride)."
   ]
  },
  {
   "cell_type": "code",
   "execution_count": null,
   "metadata": {},
   "outputs": [],
   "source": [
    "\n",
    "# YOUR CODE HERE\n"
   ]
  },
  {
   "cell_type": "markdown",
   "metadata": {},
   "source": [
    "Now solve the same problem, but tell me who will be infected after `n` days (`n = 7` in your previous solution).  This time, assume that people are infectious only for a duration of ten days (`h = 10`), after which point they also cannot be reinfected.  Implement your solution below:"
   ]
  },
  {
   "cell_type": "code",
   "execution_count": null,
   "metadata": {},
   "outputs": [],
   "source": [
    "\n",
    "# YOUR CODE HERE\n"
   ]
  },
  {
   "cell_type": "markdown",
   "metadata": {},
   "source": [
    "Generalize your solution and implement it in the function, `who_is_infected(person_infected, day_index, n, h=10)`, which takes four arguments: the name of the person infected, the index of the day they were infected (0 = Monday), the number `n` of days out we are tracking infections, and the contageousness duration, `h`.  Confirm that it gives you the same answers as your solutions above, and then use it to solve the same problem where Camille is infected on Friday.  How about if Camille is infected on Thursday?"
   ]
  },
  {
   "cell_type": "code",
   "execution_count": null,
   "metadata": {},
   "outputs": [],
   "source": [
    "def who_is_infected(person_infected, day_index, n, h=10):\n",
    "    '''\n",
    "    returns a list of the people who are infected `n` days after\n",
    "    `person_infected` got infected on `day_index` (0--6; 0 = Monday),\n",
    "    given the scheduled interactions defined in `groups`\n",
    "    '''\n",
    "    # YOUR CODE HERE\n",
    "    pass\n",
    "\n",
    "\n",
    "# TEST YOUR IMPLEMENTATION HERE"
   ]
  },
  {
   "cell_type": "markdown",
   "metadata": {},
   "source": [
    "Now assume that people start to feel symptoms four days after their initial infection (within the usual range of [2--14 days](https://www.cdc.gov/coronavirus/2019-ncov/symptoms-testing/symptoms.html)); after these four days, infected people no longer show up to dinner parties (until they're no longer contageous, say).\n",
    "\n",
    "What existing parameter can you change to account for this change (even if that parameter has a different meaning in the problem)?"
   ]
  },
  {
   "cell_type": "code",
   "execution_count": null,
   "metadata": {},
   "outputs": [],
   "source": [
    "\n",
    "# YOUR CODE HERE\n"
   ]
  },
  {
   "cell_type": "markdown",
   "metadata": {},
   "source": [
    "## Part 2. Working backwards (actual contact-tracing)\n",
    "\n",
    "Now, instead of knowing who starts out sick, let's say that we only know who ends up showing symptoms.  Assume that everybody who gets infected shows symptoms four days after getting infected, and that after an infected person starts showing symptoms they will no longer show up to dinner parties.\n",
    "\n",
    "Hint: consider this from a forward-working perspective, like in Part 1."
   ]
  },
  {
   "cell_type": "code",
   "execution_count": null,
   "metadata": {},
   "outputs": [],
   "source": [
    "def who_is_likeliest_source(sick_people, dates_symptomatic, start_day_index):\n",
    "    '''\n",
    "    `sick_people` is an array of the names of the infected people\n",
    "    `dates_symptomatic` is an array of the dates (like values of `n` in Part 1)\n",
    "      when they first became symptomatic (*Hint: 4 days after their infection date*\n",
    "    `start_day_index` is the day_index at `n = 0` (corresponding to values in\n",
    "      `dates_asymptomatic`)\n",
    "    '''\n",
    "    # YOUR CODE HERE\n",
    "    pass\n",
    "\n",
    "\n",
    "# TEST YOUR IMPLEMENTATION HERE"
   ]
  },
  {
   "cell_type": "markdown",
   "metadata": {},
   "source": [
    "## Part 3. A more realistic population\n",
    "\n",
    "Now imagine that we have a much larger population, and that multiple groups meet for dinner each night.  Rather than giving everyone names, we'll just call them by initials.  Below is a new definition of `groups`, where this time `groups[day_index]` gives an array of the different groups that met on that day.  Note that no person meets in two groups on the same day."
   ]
  },
  {
   "cell_type": "code",
   "execution_count": null,
   "metadata": {},
   "outputs": [],
   "source": [
    "# RUN THIS CHUNK\n",
    "\n",
    "groups = [\n",
    "    [\n",
    "        ['AO', 'EG', 'JF', 'JG'],\n",
    "        ['AX', 'IN', 'LW', 'QG', 'VE', 'XA', 'YL'],\n",
    "        ['EA', 'HB', 'LB', 'MC', 'TD', 'WD', 'WL'],\n",
    "        ['EY', 'GW', 'PY', 'XX'],\n",
    "        ['HC', 'KS', 'OH', 'RW', 'UH', 'WT'],\n",
    "        ['BP', 'KO', 'OT', 'QR', 'SR', 'YT', 'ZF'],\n",
    "        ['AV', 'QO', 'UF'],\n",
    "        ['IZ', 'MI', 'OV', 'WQ', 'ZS'],\n",
    "    ],\n",
    "    [\n",
    "        ['DB', 'FP', 'KX', 'MU', 'RE', 'VG', 'ZH'],\n",
    "        ['CU', 'HL', 'JA', 'JH'],\n",
    "        ['AT', 'AV', 'BG', 'OB', 'PD', 'TD', 'WQ'],\n",
    "        ['GV', 'NO', 'VL'],\n",
    "        ['BM', 'JE', 'KQ', 'NV', 'QU', 'UV'],\n",
    "        ['BW', 'HQ', 'IY', 'QX', 'VJ', 'XD'],\n",
    "        ['LU', 'QN', 'WY', 'YA'],\n",
    "        ['GF', 'HB', 'OE', 'QK', 'YP'],\n",
    "        ['CP', 'EB', 'FI', 'IW', 'PN', 'XX', 'ZT'],\n",
    "    ],\n",
    "    [\n",
    "        ['BT', 'HO', 'QO', 'VK'],\n",
    "        ['DY', 'NE', 'QD', 'RW', 'TW', 'ZP', 'ZW'],\n",
    "        ['GC', 'UC', 'VR', 'WN', 'XB', 'XP'],\n",
    "        ['BJ', 'DQ', 'JD', 'MH'],\n",
    "        ['BQ', 'HZ', 'RL', 'RO', 'VA'],\n",
    "        ['AZ', 'GL', 'LJ', 'WB', 'WR', 'WT', 'XH'],\n",
    "    ],\n",
    "    [\n",
    "        ['FN', 'JM', 'ZG', 'ZN'],\n",
    "        ['JQ', 'OK', 'PE', 'RM', 'XH'],\n",
    "        ['BK', 'CM', 'CP', 'UC', 'WD'],\n",
    "        ['NE', 'OX', 'SW', 'VT', 'XE'],\n",
    "        ['BU', 'FM', 'MU', 'ON', 'PX', 'SD', 'YN'],\n",
    "        ['AN', 'JD', 'PS', 'ZW'],\n",
    "        ['HL', 'LL', 'UY', 'WJ'],\n",
    "    ],\n",
    "    [\n",
    "        ['AE', 'BR', 'DB', 'JT', 'SE', 'TP', 'ZP'],\n",
    "        ['IR', 'KV', 'RU', 'RV', 'XD'],\n",
    "        ['HC', 'KR', 'LA', 'LI', 'QF', 'RP'],\n",
    "        ['BP', 'EW', 'ML', 'QJ'],\n",
    "        ['AY', 'BG', 'CP', 'MM', 'PM', 'WH'],\n",
    "        ['GO', 'PU', 'VB', 'XY', 'YQ'],\n",
    "    ],\n",
    "    [\n",
    "        ['JX', 'LF', 'RP', 'UY'],\n",
    "        ['IF', 'MD', 'NP', 'SR'],\n",
    "        ['BK', 'XO', 'YO', 'ZQ'],\n",
    "        ['CG', 'EA', 'EY', 'HS', 'NW', 'PI', 'RY'],\n",
    "        ['PK', 'SC', 'TN', 'YG'],\n",
    "    ],\n",
    "    [\n",
    "        ['EL', 'LE', 'PN', 'XY', 'YK'],\n",
    "        ['AD', 'GJ', 'KP', 'NJ', 'SI', 'WG'],\n",
    "        ['DX', 'MM', 'NZ', 'OA'],\n",
    "        ['BL', 'EI', 'KA', 'KK', 'NY', 'VX', 'XH'],\n",
    "        ['FN', 'SP', 'SR', 'XL'],\n",
    "        ['BZ', 'CJ', 'HZ', 'LM', 'RP'],\n",
    "        ['DT', 'GO', 'HL', 'HO', 'ZU'],\n",
    "        ['BH', 'EH', 'KC', 'LU', 'UB', 'XV', 'YE'],\n",
    "        ['AA', 'AE', 'ED', 'MK', 'NS', 'PD'],\n",
    "    ]\n",
    "]"
   ]
  },
  {
   "cell_type": "markdown",
   "metadata": {},
   "source": [
    "Below, implement reimplement your code from Parts 1 and 2 to work with these more-complex population dynamics."
   ]
  },
  {
   "cell_type": "code",
   "execution_count": null,
   "metadata": {},
   "outputs": [],
   "source": [
    "def who_is_infected(person_infected, day_index, n, h=10):\n",
    "    '''\n",
    "    returns a list of the people who are infected `n` days after\n",
    "    `person_infected` got infected on `day_index` (0--6; 0 = Monday),\n",
    "    given the scheduled interactions defined in `groups`\n",
    "    '''\n",
    "    # YOUR CODE HERE\n",
    "    pass\n",
    "\n",
    "\n",
    "# TEST YOUR IMPLEMENTATION HERE"
   ]
  },
  {
   "cell_type": "code",
   "execution_count": null,
   "metadata": {},
   "outputs": [],
   "source": [
    "def who_is_likeliest_source(sick_people, dates_symptomatic, start_day_index):\n",
    "    '''\n",
    "    `sick_people` is an array of the names of the infected people\n",
    "    `dates_symptomatic` is an array of the dates (like values of `n` in Part 1)\n",
    "      when they first became symptomatic (*Hint: 4 days after their infection date*\n",
    "    `start_day_index` is the day_index at `n = 0` (corresponding to values in\n",
    "      `dates_asymptomatic`)\n",
    "    '''\n",
    "    # YOUR CODE HERE\n",
    "    pass\n",
    "\n",
    "\n",
    "# TEST YOUR IMPLEMENTATION HERE"
   ]
  },
  {
   "cell_type": "markdown",
   "metadata": {},
   "source": [
    "## Expand and expound\n",
    "\n",
    "Elaborate on this problem, if you wish.  Here's an idea:\n",
    "- Consider that newly-infected people aren't contageous until [about 2 days after infection](https://medical.mit.edu/covid-19-updates/2020/10/exposed-to-covid-19-how-soon-contagious).  How does this change the logic of your solution?"
   ]
  },
  {
   "cell_type": "code",
   "execution_count": null,
   "metadata": {},
   "outputs": [],
   "source": [
    "\n",
    "# YOUR CODE HERE\n"
   ]
  }
 ]
}